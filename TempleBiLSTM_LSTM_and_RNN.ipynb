{
  "cells": [
    {
      "cell_type": "markdown",
      "metadata": {
        "id": "view-in-github",
        "colab_type": "text"
      },
      "source": [
        "<a href=\"https://colab.research.google.com/github/kingattai/vehicular-channel-estimation-dl/blob/main/TempleBiLSTM_LSTM_and_RNN.ipynb\" target=\"_parent\"><img src=\"https://colab.research.google.com/assets/colab-badge.svg\" alt=\"Open In Colab\"/></a>"
      ]
    },
    {
      "cell_type": "code",
      "execution_count": null,
      "metadata": {
        "colab": {
          "base_uri": "https://localhost:8080/"
        },
        "id": "z7LcUGBjmCGw",
        "outputId": "1ddd9a4f-acb4-4c7d-cf32-124a77cb2315"
      },
      "outputs": [
        {
          "name": "stdout",
          "output_type": "stream",
          "text": [
            "Requirement already satisfied: tensorflow==2.12.0 in /usr/local/lib/python3.11/dist-packages (2.12.0)\n",
            "Requirement already satisfied: absl-py>=1.0.0 in /usr/local/lib/python3.11/dist-packages (from tensorflow==2.12.0) (1.4.0)\n",
            "Requirement already satisfied: astunparse>=1.6.0 in /usr/local/lib/python3.11/dist-packages (from tensorflow==2.12.0) (1.6.3)\n",
            "Requirement already satisfied: flatbuffers>=2.0 in /usr/local/lib/python3.11/dist-packages (from tensorflow==2.12.0) (25.2.10)\n",
            "Requirement already satisfied: gast<=0.4.0,>=0.2.1 in /usr/local/lib/python3.11/dist-packages (from tensorflow==2.12.0) (0.4.0)\n",
            "Requirement already satisfied: google-pasta>=0.1.1 in /usr/local/lib/python3.11/dist-packages (from tensorflow==2.12.0) (0.2.0)\n",
            "Requirement already satisfied: grpcio<2.0,>=1.24.3 in /usr/local/lib/python3.11/dist-packages (from tensorflow==2.12.0) (1.70.0)\n",
            "Requirement already satisfied: h5py>=2.9.0 in /usr/local/lib/python3.11/dist-packages (from tensorflow==2.12.0) (3.12.1)\n",
            "Requirement already satisfied: jax>=0.3.15 in /usr/local/lib/python3.11/dist-packages (from tensorflow==2.12.0) (0.4.30)\n",
            "Collecting keras<2.13,>=2.12.0 (from tensorflow==2.12.0)\n",
            "  Using cached keras-2.12.0-py2.py3-none-any.whl.metadata (1.4 kB)\n",
            "Requirement already satisfied: libclang>=13.0.0 in /usr/local/lib/python3.11/dist-packages (from tensorflow==2.12.0) (18.1.1)\n",
            "Requirement already satisfied: numpy<1.24,>=1.22 in /usr/local/lib/python3.11/dist-packages (from tensorflow==2.12.0) (1.23.5)\n",
            "Requirement already satisfied: opt-einsum>=2.3.2 in /usr/local/lib/python3.11/dist-packages (from tensorflow==2.12.0) (3.4.0)\n",
            "Requirement already satisfied: packaging in /usr/local/lib/python3.11/dist-packages (from tensorflow==2.12.0) (24.2)\n",
            "Requirement already satisfied: protobuf!=4.21.0,!=4.21.1,!=4.21.2,!=4.21.3,!=4.21.4,!=4.21.5,<5.0.0dev,>=3.20.3 in /usr/local/lib/python3.11/dist-packages (from tensorflow==2.12.0) (4.25.6)\n",
            "Requirement already satisfied: setuptools in /usr/local/lib/python3.11/dist-packages (from tensorflow==2.12.0) (75.1.0)\n",
            "Requirement already satisfied: six>=1.12.0 in /usr/local/lib/python3.11/dist-packages (from tensorflow==2.12.0) (1.17.0)\n",
            "Requirement already satisfied: tensorboard<2.13,>=2.12 in /usr/local/lib/python3.11/dist-packages (from tensorflow==2.12.0) (2.12.3)\n",
            "Requirement already satisfied: tensorflow-estimator<2.13,>=2.12.0 in /usr/local/lib/python3.11/dist-packages (from tensorflow==2.12.0) (2.12.0)\n",
            "Requirement already satisfied: termcolor>=1.1.0 in /usr/local/lib/python3.11/dist-packages (from tensorflow==2.12.0) (2.5.0)\n",
            "Requirement already satisfied: typing-extensions>=3.6.6 in /usr/local/lib/python3.11/dist-packages (from tensorflow==2.12.0) (4.12.2)\n",
            "Requirement already satisfied: wrapt<1.15,>=1.11.0 in /usr/local/lib/python3.11/dist-packages (from tensorflow==2.12.0) (1.14.1)\n",
            "Requirement already satisfied: tensorflow-io-gcs-filesystem>=0.23.1 in /usr/local/lib/python3.11/dist-packages (from tensorflow==2.12.0) (0.37.1)\n",
            "Requirement already satisfied: wheel<1.0,>=0.23.0 in /usr/local/lib/python3.11/dist-packages (from astunparse>=1.6.0->tensorflow==2.12.0) (0.45.1)\n",
            "Requirement already satisfied: jaxlib<=0.4.30,>=0.4.27 in /usr/local/lib/python3.11/dist-packages (from jax>=0.3.15->tensorflow==2.12.0) (0.4.30)\n",
            "Requirement already satisfied: ml-dtypes>=0.2.0 in /usr/local/lib/python3.11/dist-packages (from jax>=0.3.15->tensorflow==2.12.0) (0.4.1)\n",
            "Requirement already satisfied: scipy>=1.9 in /usr/local/lib/python3.11/dist-packages (from jax>=0.3.15->tensorflow==2.12.0) (1.13.1)\n",
            "Requirement already satisfied: google-auth<3,>=1.6.3 in /usr/local/lib/python3.11/dist-packages (from tensorboard<2.13,>=2.12->tensorflow==2.12.0) (2.27.0)\n",
            "Requirement already satisfied: google-auth-oauthlib<1.1,>=0.5 in /usr/local/lib/python3.11/dist-packages (from tensorboard<2.13,>=2.12->tensorflow==2.12.0) (1.0.0)\n",
            "Requirement already satisfied: markdown>=2.6.8 in /usr/local/lib/python3.11/dist-packages (from tensorboard<2.13,>=2.12->tensorflow==2.12.0) (3.7)\n",
            "Requirement already satisfied: requests<3,>=2.21.0 in /usr/local/lib/python3.11/dist-packages (from tensorboard<2.13,>=2.12->tensorflow==2.12.0) (2.32.3)\n",
            "Requirement already satisfied: tensorboard-data-server<0.8.0,>=0.7.0 in /usr/local/lib/python3.11/dist-packages (from tensorboard<2.13,>=2.12->tensorflow==2.12.0) (0.7.2)\n",
            "Requirement already satisfied: werkzeug>=1.0.1 in /usr/local/lib/python3.11/dist-packages (from tensorboard<2.13,>=2.12->tensorflow==2.12.0) (3.1.3)\n",
            "Requirement already satisfied: cachetools<6.0,>=2.0.0 in /usr/local/lib/python3.11/dist-packages (from google-auth<3,>=1.6.3->tensorboard<2.13,>=2.12->tensorflow==2.12.0) (5.5.2)\n",
            "Requirement already satisfied: pyasn1-modules>=0.2.1 in /usr/local/lib/python3.11/dist-packages (from google-auth<3,>=1.6.3->tensorboard<2.13,>=2.12->tensorflow==2.12.0) (0.4.1)\n",
            "Requirement already satisfied: rsa<5,>=3.1.4 in /usr/local/lib/python3.11/dist-packages (from google-auth<3,>=1.6.3->tensorboard<2.13,>=2.12->tensorflow==2.12.0) (4.9)\n",
            "Requirement already satisfied: requests-oauthlib>=0.7.0 in /usr/local/lib/python3.11/dist-packages (from google-auth-oauthlib<1.1,>=0.5->tensorboard<2.13,>=2.12->tensorflow==2.12.0) (2.0.0)\n",
            "Requirement already satisfied: charset-normalizer<4,>=2 in /usr/local/lib/python3.11/dist-packages (from requests<3,>=2.21.0->tensorboard<2.13,>=2.12->tensorflow==2.12.0) (3.4.1)\n",
            "Requirement already satisfied: idna<4,>=2.5 in /usr/local/lib/python3.11/dist-packages (from requests<3,>=2.21.0->tensorboard<2.13,>=2.12->tensorflow==2.12.0) (3.10)\n",
            "Requirement already satisfied: urllib3<3,>=1.21.1 in /usr/local/lib/python3.11/dist-packages (from requests<3,>=2.21.0->tensorboard<2.13,>=2.12->tensorflow==2.12.0) (2.3.0)\n",
            "Requirement already satisfied: certifi>=2017.4.17 in /usr/local/lib/python3.11/dist-packages (from requests<3,>=2.21.0->tensorboard<2.13,>=2.12->tensorflow==2.12.0) (2025.1.31)\n",
            "Requirement already satisfied: MarkupSafe>=2.1.1 in /usr/local/lib/python3.11/dist-packages (from werkzeug>=1.0.1->tensorboard<2.13,>=2.12->tensorflow==2.12.0) (3.0.2)\n",
            "Requirement already satisfied: pyasn1<0.7.0,>=0.4.6 in /usr/local/lib/python3.11/dist-packages (from pyasn1-modules>=0.2.1->google-auth<3,>=1.6.3->tensorboard<2.13,>=2.12->tensorflow==2.12.0) (0.6.1)\n",
            "Requirement already satisfied: oauthlib>=3.0.0 in /usr/local/lib/python3.11/dist-packages (from requests-oauthlib>=0.7.0->google-auth-oauthlib<1.1,>=0.5->tensorboard<2.13,>=2.12->tensorflow==2.12.0) (3.2.2)\n",
            "Using cached keras-2.12.0-py2.py3-none-any.whl (1.7 MB)\n",
            "Installing collected packages: keras\n",
            "  Attempting uninstall: keras\n",
            "    Found existing installation: keras 2.11.0\n",
            "    Uninstalling keras-2.11.0:\n",
            "      Successfully uninstalled keras-2.11.0\n",
            "\u001b[31mERROR: pip's dependency resolver does not currently take into account all the packages that are installed. This behaviour is the source of the following dependency conflicts.\n",
            "tensorflow-text 2.18.1 requires tensorflow<2.19,>=2.18.0, but you have tensorflow 2.12.0 which is incompatible.\n",
            "tf-keras 2.18.0 requires tensorflow<2.19,>=2.18, but you have tensorflow 2.12.0 which is incompatible.\u001b[0m\u001b[31m\n",
            "\u001b[0mSuccessfully installed keras-2.12.0\n"
          ]
        }
      ],
      "source": [
        "!pip install tensorflow==2.12.0"
      ]
    },
    {
      "cell_type": "code",
      "execution_count": null,
      "metadata": {
        "colab": {
          "base_uri": "https://localhost:8080/"
        },
        "id": "QSsDgrZJmDVg",
        "outputId": "27448d45-5f00-4e44-e113-b42db90db739"
      },
      "outputs": [
        {
          "name": "stdout",
          "output_type": "stream",
          "text": [
            "Requirement already satisfied: keras==2.12.0 in /usr/local/lib/python3.11/dist-packages (2.12.0)\n"
          ]
        }
      ],
      "source": [
        "!pip install keras==2.12.0"
      ]
    },
    {
      "cell_type": "code",
      "execution_count": null,
      "metadata": {
        "id": "sxEwD21dkz8J"
      },
      "outputs": [],
      "source": [
        "# Import necessary libraries\n",
        "import numpy as np\n",
        "import pandas as pd\n",
        "import seaborn as sns\n",
        "import matplotlib.pyplot as plt\n",
        "from sklearn.model_selection import train_test_split\n",
        "from sklearn.preprocessing import MinMaxScaler\n",
        "from sklearn.metrics import accuracy_score, precision_score, recall_score, f1_score, roc_auc_score, confusion_matrix\n",
        "import tensorflow as tf\n",
        "from tensorflow.keras.models import Sequential\n",
        "from tensorflow.keras.layers import Dense, SimpleRNN, LSTM, Bidirectional\n",
        "from tensorflow.keras.optimizers import Adam\n",
        "from google.colab import drive"
      ]
    },
    {
      "cell_type": "code",
      "execution_count": null,
      "metadata": {
        "colab": {
          "base_uri": "https://localhost:8080/"
        },
        "id": "5JB7ikY8ncXw",
        "outputId": "9fe6ea4d-bc78-43ed-d616-c111eff2385f"
      },
      "outputs": [
        {
          "output_type": "stream",
          "name": "stdout",
          "text": [
            "Mounted at /content/drive\n"
          ]
        }
      ],
      "source": [
        "# Mount Google Drive\n",
        "drive.mount('/content/drive')"
      ]
    },
    {
      "cell_type": "code",
      "execution_count": null,
      "metadata": {
        "id": "P63j8R9vWDjc"
      },
      "outputs": [],
      "source": [
        "# Function to plot confusion matrix\n",
        "def plot_confusion_matrix(y_true, y_pred, title=\"Confusion Matrix\"):\n",
        "    cm = confusion_matrix(y_true, y_pred)\n",
        "    plt.figure(figsize=(6, 5))\n",
        "    sns.heatmap(cm, annot=True, fmt=\"d\", cmap=\"Blues\", xticklabels=[\"Negative\", \"Positive\"], yticklabels=[\"Negative\", \"Positive\"])\n",
        "    plt.xlabel(\"Predicted\")\n",
        "    plt.ylabel(\"Actual\")\n",
        "    plt.title(title)\n",
        "    plt.show()"
      ]
    },
    {
      "cell_type": "code",
      "execution_count": null,
      "metadata": {
        "colab": {
          "base_uri": "https://localhost:8080/",
          "height": 423
        },
        "id": "QJ0Mi8kOncrW",
        "outputId": "dd7bcca6-3397-4d29-adc8-b44ee7470f9e"
      },
      "outputs": [
        {
          "output_type": "execute_result",
          "data": {
            "text/plain": [
              "       Unnamed: 0    Velocity  Doppler shift   Distance   Average path Gain   \\\n",
              "0               0   51.199413       71.952692   3.487668           -7.535545   \n",
              "1               1  114.578574      169.399720   0.801152          -16.514708   \n",
              "2               2   90.519334       65.577744   2.216071          -14.628749   \n",
              "3               3   75.852433      140.388965   6.316539          -12.558405   \n",
              "4               4   27.162050        9.021801   0.379942          -18.882011   \n",
              "...           ...         ...             ...        ...                 ...   \n",
              "18695       18695   53.759715      101.404219   8.148921           -2.435431   \n",
              "18696       18696  104.810094       81.697661   3.722712           -7.924469   \n",
              "18697       18697   46.393699      186.180256   1.624699           -8.871713   \n",
              "18698       18698   38.530240       17.907019   1.705192           -9.906307   \n",
              "18699       18699   91.764704      123.114040   9.837615          -15.693798   \n",
              "\n",
              "       Path Delays   CSI  \n",
              "0         96.971634    1  \n",
              "1         96.737418    0  \n",
              "2         32.805970    1  \n",
              "3         77.845406    0  \n",
              "4         12.805361    1  \n",
              "...             ...  ...  \n",
              "18695     12.154524    0  \n",
              "18696     87.475364    1  \n",
              "18697     61.045876    0  \n",
              "18698     93.574051    1  \n",
              "18699     88.799642    0  \n",
              "\n",
              "[18700 rows x 7 columns]"
            ],
            "text/html": [
              "\n",
              "  <div id=\"df-d861e2bb-a31b-4b52-be1a-a632caef5c8e\" class=\"colab-df-container\">\n",
              "    <div>\n",
              "<style scoped>\n",
              "    .dataframe tbody tr th:only-of-type {\n",
              "        vertical-align: middle;\n",
              "    }\n",
              "\n",
              "    .dataframe tbody tr th {\n",
              "        vertical-align: top;\n",
              "    }\n",
              "\n",
              "    .dataframe thead th {\n",
              "        text-align: right;\n",
              "    }\n",
              "</style>\n",
              "<table border=\"1\" class=\"dataframe\">\n",
              "  <thead>\n",
              "    <tr style=\"text-align: right;\">\n",
              "      <th></th>\n",
              "      <th>Unnamed: 0</th>\n",
              "      <th>Velocity</th>\n",
              "      <th>Doppler shift</th>\n",
              "      <th>Distance</th>\n",
              "      <th>Average path Gain</th>\n",
              "      <th>Path Delays</th>\n",
              "      <th>CSI</th>\n",
              "    </tr>\n",
              "  </thead>\n",
              "  <tbody>\n",
              "    <tr>\n",
              "      <th>0</th>\n",
              "      <td>0</td>\n",
              "      <td>51.199413</td>\n",
              "      <td>71.952692</td>\n",
              "      <td>3.487668</td>\n",
              "      <td>-7.535545</td>\n",
              "      <td>96.971634</td>\n",
              "      <td>1</td>\n",
              "    </tr>\n",
              "    <tr>\n",
              "      <th>1</th>\n",
              "      <td>1</td>\n",
              "      <td>114.578574</td>\n",
              "      <td>169.399720</td>\n",
              "      <td>0.801152</td>\n",
              "      <td>-16.514708</td>\n",
              "      <td>96.737418</td>\n",
              "      <td>0</td>\n",
              "    </tr>\n",
              "    <tr>\n",
              "      <th>2</th>\n",
              "      <td>2</td>\n",
              "      <td>90.519334</td>\n",
              "      <td>65.577744</td>\n",
              "      <td>2.216071</td>\n",
              "      <td>-14.628749</td>\n",
              "      <td>32.805970</td>\n",
              "      <td>1</td>\n",
              "    </tr>\n",
              "    <tr>\n",
              "      <th>3</th>\n",
              "      <td>3</td>\n",
              "      <td>75.852433</td>\n",
              "      <td>140.388965</td>\n",
              "      <td>6.316539</td>\n",
              "      <td>-12.558405</td>\n",
              "      <td>77.845406</td>\n",
              "      <td>0</td>\n",
              "    </tr>\n",
              "    <tr>\n",
              "      <th>4</th>\n",
              "      <td>4</td>\n",
              "      <td>27.162050</td>\n",
              "      <td>9.021801</td>\n",
              "      <td>0.379942</td>\n",
              "      <td>-18.882011</td>\n",
              "      <td>12.805361</td>\n",
              "      <td>1</td>\n",
              "    </tr>\n",
              "    <tr>\n",
              "      <th>...</th>\n",
              "      <td>...</td>\n",
              "      <td>...</td>\n",
              "      <td>...</td>\n",
              "      <td>...</td>\n",
              "      <td>...</td>\n",
              "      <td>...</td>\n",
              "      <td>...</td>\n",
              "    </tr>\n",
              "    <tr>\n",
              "      <th>18695</th>\n",
              "      <td>18695</td>\n",
              "      <td>53.759715</td>\n",
              "      <td>101.404219</td>\n",
              "      <td>8.148921</td>\n",
              "      <td>-2.435431</td>\n",
              "      <td>12.154524</td>\n",
              "      <td>0</td>\n",
              "    </tr>\n",
              "    <tr>\n",
              "      <th>18696</th>\n",
              "      <td>18696</td>\n",
              "      <td>104.810094</td>\n",
              "      <td>81.697661</td>\n",
              "      <td>3.722712</td>\n",
              "      <td>-7.924469</td>\n",
              "      <td>87.475364</td>\n",
              "      <td>1</td>\n",
              "    </tr>\n",
              "    <tr>\n",
              "      <th>18697</th>\n",
              "      <td>18697</td>\n",
              "      <td>46.393699</td>\n",
              "      <td>186.180256</td>\n",
              "      <td>1.624699</td>\n",
              "      <td>-8.871713</td>\n",
              "      <td>61.045876</td>\n",
              "      <td>0</td>\n",
              "    </tr>\n",
              "    <tr>\n",
              "      <th>18698</th>\n",
              "      <td>18698</td>\n",
              "      <td>38.530240</td>\n",
              "      <td>17.907019</td>\n",
              "      <td>1.705192</td>\n",
              "      <td>-9.906307</td>\n",
              "      <td>93.574051</td>\n",
              "      <td>1</td>\n",
              "    </tr>\n",
              "    <tr>\n",
              "      <th>18699</th>\n",
              "      <td>18699</td>\n",
              "      <td>91.764704</td>\n",
              "      <td>123.114040</td>\n",
              "      <td>9.837615</td>\n",
              "      <td>-15.693798</td>\n",
              "      <td>88.799642</td>\n",
              "      <td>0</td>\n",
              "    </tr>\n",
              "  </tbody>\n",
              "</table>\n",
              "<p>18700 rows × 7 columns</p>\n",
              "</div>\n",
              "    <div class=\"colab-df-buttons\">\n",
              "\n",
              "  <div class=\"colab-df-container\">\n",
              "    <button class=\"colab-df-convert\" onclick=\"convertToInteractive('df-d861e2bb-a31b-4b52-be1a-a632caef5c8e')\"\n",
              "            title=\"Convert this dataframe to an interactive table.\"\n",
              "            style=\"display:none;\">\n",
              "\n",
              "  <svg xmlns=\"http://www.w3.org/2000/svg\" height=\"24px\" viewBox=\"0 -960 960 960\">\n",
              "    <path d=\"M120-120v-720h720v720H120Zm60-500h600v-160H180v160Zm220 220h160v-160H400v160Zm0 220h160v-160H400v160ZM180-400h160v-160H180v160Zm440 0h160v-160H620v160ZM180-180h160v-160H180v160Zm440 0h160v-160H620v160Z\"/>\n",
              "  </svg>\n",
              "    </button>\n",
              "\n",
              "  <style>\n",
              "    .colab-df-container {\n",
              "      display:flex;\n",
              "      gap: 12px;\n",
              "    }\n",
              "\n",
              "    .colab-df-convert {\n",
              "      background-color: #E8F0FE;\n",
              "      border: none;\n",
              "      border-radius: 50%;\n",
              "      cursor: pointer;\n",
              "      display: none;\n",
              "      fill: #1967D2;\n",
              "      height: 32px;\n",
              "      padding: 0 0 0 0;\n",
              "      width: 32px;\n",
              "    }\n",
              "\n",
              "    .colab-df-convert:hover {\n",
              "      background-color: #E2EBFA;\n",
              "      box-shadow: 0px 1px 2px rgba(60, 64, 67, 0.3), 0px 1px 3px 1px rgba(60, 64, 67, 0.15);\n",
              "      fill: #174EA6;\n",
              "    }\n",
              "\n",
              "    .colab-df-buttons div {\n",
              "      margin-bottom: 4px;\n",
              "    }\n",
              "\n",
              "    [theme=dark] .colab-df-convert {\n",
              "      background-color: #3B4455;\n",
              "      fill: #D2E3FC;\n",
              "    }\n",
              "\n",
              "    [theme=dark] .colab-df-convert:hover {\n",
              "      background-color: #434B5C;\n",
              "      box-shadow: 0px 1px 3px 1px rgba(0, 0, 0, 0.15);\n",
              "      filter: drop-shadow(0px 1px 2px rgba(0, 0, 0, 0.3));\n",
              "      fill: #FFFFFF;\n",
              "    }\n",
              "  </style>\n",
              "\n",
              "    <script>\n",
              "      const buttonEl =\n",
              "        document.querySelector('#df-d861e2bb-a31b-4b52-be1a-a632caef5c8e button.colab-df-convert');\n",
              "      buttonEl.style.display =\n",
              "        google.colab.kernel.accessAllowed ? 'block' : 'none';\n",
              "\n",
              "      async function convertToInteractive(key) {\n",
              "        const element = document.querySelector('#df-d861e2bb-a31b-4b52-be1a-a632caef5c8e');\n",
              "        const dataTable =\n",
              "          await google.colab.kernel.invokeFunction('convertToInteractive',\n",
              "                                                    [key], {});\n",
              "        if (!dataTable) return;\n",
              "\n",
              "        const docLinkHtml = 'Like what you see? Visit the ' +\n",
              "          '<a target=\"_blank\" href=https://colab.research.google.com/notebooks/data_table.ipynb>data table notebook</a>'\n",
              "          + ' to learn more about interactive tables.';\n",
              "        element.innerHTML = '';\n",
              "        dataTable['output_type'] = 'display_data';\n",
              "        await google.colab.output.renderOutput(dataTable, element);\n",
              "        const docLink = document.createElement('div');\n",
              "        docLink.innerHTML = docLinkHtml;\n",
              "        element.appendChild(docLink);\n",
              "      }\n",
              "    </script>\n",
              "  </div>\n",
              "\n",
              "\n",
              "<div id=\"df-1dbdd001-502c-444b-a44c-eed9856cfc55\">\n",
              "  <button class=\"colab-df-quickchart\" onclick=\"quickchart('df-1dbdd001-502c-444b-a44c-eed9856cfc55')\"\n",
              "            title=\"Suggest charts\"\n",
              "            style=\"display:none;\">\n",
              "\n",
              "<svg xmlns=\"http://www.w3.org/2000/svg\" height=\"24px\"viewBox=\"0 0 24 24\"\n",
              "     width=\"24px\">\n",
              "    <g>\n",
              "        <path d=\"M19 3H5c-1.1 0-2 .9-2 2v14c0 1.1.9 2 2 2h14c1.1 0 2-.9 2-2V5c0-1.1-.9-2-2-2zM9 17H7v-7h2v7zm4 0h-2V7h2v10zm4 0h-2v-4h2v4z\"/>\n",
              "    </g>\n",
              "</svg>\n",
              "  </button>\n",
              "\n",
              "<style>\n",
              "  .colab-df-quickchart {\n",
              "      --bg-color: #E8F0FE;\n",
              "      --fill-color: #1967D2;\n",
              "      --hover-bg-color: #E2EBFA;\n",
              "      --hover-fill-color: #174EA6;\n",
              "      --disabled-fill-color: #AAA;\n",
              "      --disabled-bg-color: #DDD;\n",
              "  }\n",
              "\n",
              "  [theme=dark] .colab-df-quickchart {\n",
              "      --bg-color: #3B4455;\n",
              "      --fill-color: #D2E3FC;\n",
              "      --hover-bg-color: #434B5C;\n",
              "      --hover-fill-color: #FFFFFF;\n",
              "      --disabled-bg-color: #3B4455;\n",
              "      --disabled-fill-color: #666;\n",
              "  }\n",
              "\n",
              "  .colab-df-quickchart {\n",
              "    background-color: var(--bg-color);\n",
              "    border: none;\n",
              "    border-radius: 50%;\n",
              "    cursor: pointer;\n",
              "    display: none;\n",
              "    fill: var(--fill-color);\n",
              "    height: 32px;\n",
              "    padding: 0;\n",
              "    width: 32px;\n",
              "  }\n",
              "\n",
              "  .colab-df-quickchart:hover {\n",
              "    background-color: var(--hover-bg-color);\n",
              "    box-shadow: 0 1px 2px rgba(60, 64, 67, 0.3), 0 1px 3px 1px rgba(60, 64, 67, 0.15);\n",
              "    fill: var(--button-hover-fill-color);\n",
              "  }\n",
              "\n",
              "  .colab-df-quickchart-complete:disabled,\n",
              "  .colab-df-quickchart-complete:disabled:hover {\n",
              "    background-color: var(--disabled-bg-color);\n",
              "    fill: var(--disabled-fill-color);\n",
              "    box-shadow: none;\n",
              "  }\n",
              "\n",
              "  .colab-df-spinner {\n",
              "    border: 2px solid var(--fill-color);\n",
              "    border-color: transparent;\n",
              "    border-bottom-color: var(--fill-color);\n",
              "    animation:\n",
              "      spin 1s steps(1) infinite;\n",
              "  }\n",
              "\n",
              "  @keyframes spin {\n",
              "    0% {\n",
              "      border-color: transparent;\n",
              "      border-bottom-color: var(--fill-color);\n",
              "      border-left-color: var(--fill-color);\n",
              "    }\n",
              "    20% {\n",
              "      border-color: transparent;\n",
              "      border-left-color: var(--fill-color);\n",
              "      border-top-color: var(--fill-color);\n",
              "    }\n",
              "    30% {\n",
              "      border-color: transparent;\n",
              "      border-left-color: var(--fill-color);\n",
              "      border-top-color: var(--fill-color);\n",
              "      border-right-color: var(--fill-color);\n",
              "    }\n",
              "    40% {\n",
              "      border-color: transparent;\n",
              "      border-right-color: var(--fill-color);\n",
              "      border-top-color: var(--fill-color);\n",
              "    }\n",
              "    60% {\n",
              "      border-color: transparent;\n",
              "      border-right-color: var(--fill-color);\n",
              "    }\n",
              "    80% {\n",
              "      border-color: transparent;\n",
              "      border-right-color: var(--fill-color);\n",
              "      border-bottom-color: var(--fill-color);\n",
              "    }\n",
              "    90% {\n",
              "      border-color: transparent;\n",
              "      border-bottom-color: var(--fill-color);\n",
              "    }\n",
              "  }\n",
              "</style>\n",
              "\n",
              "  <script>\n",
              "    async function quickchart(key) {\n",
              "      const quickchartButtonEl =\n",
              "        document.querySelector('#' + key + ' button');\n",
              "      quickchartButtonEl.disabled = true;  // To prevent multiple clicks.\n",
              "      quickchartButtonEl.classList.add('colab-df-spinner');\n",
              "      try {\n",
              "        const charts = await google.colab.kernel.invokeFunction(\n",
              "            'suggestCharts', [key], {});\n",
              "      } catch (error) {\n",
              "        console.error('Error during call to suggestCharts:', error);\n",
              "      }\n",
              "      quickchartButtonEl.classList.remove('colab-df-spinner');\n",
              "      quickchartButtonEl.classList.add('colab-df-quickchart-complete');\n",
              "    }\n",
              "    (() => {\n",
              "      let quickchartButtonEl =\n",
              "        document.querySelector('#df-1dbdd001-502c-444b-a44c-eed9856cfc55 button');\n",
              "      quickchartButtonEl.style.display =\n",
              "        google.colab.kernel.accessAllowed ? 'block' : 'none';\n",
              "    })();\n",
              "  </script>\n",
              "</div>\n",
              "\n",
              "  <div id=\"id_9d792505-65d7-49d5-9ab7-a1401bd4b4a3\">\n",
              "    <style>\n",
              "      .colab-df-generate {\n",
              "        background-color: #E8F0FE;\n",
              "        border: none;\n",
              "        border-radius: 50%;\n",
              "        cursor: pointer;\n",
              "        display: none;\n",
              "        fill: #1967D2;\n",
              "        height: 32px;\n",
              "        padding: 0 0 0 0;\n",
              "        width: 32px;\n",
              "      }\n",
              "\n",
              "      .colab-df-generate:hover {\n",
              "        background-color: #E2EBFA;\n",
              "        box-shadow: 0px 1px 2px rgba(60, 64, 67, 0.3), 0px 1px 3px 1px rgba(60, 64, 67, 0.15);\n",
              "        fill: #174EA6;\n",
              "      }\n",
              "\n",
              "      [theme=dark] .colab-df-generate {\n",
              "        background-color: #3B4455;\n",
              "        fill: #D2E3FC;\n",
              "      }\n",
              "\n",
              "      [theme=dark] .colab-df-generate:hover {\n",
              "        background-color: #434B5C;\n",
              "        box-shadow: 0px 1px 3px 1px rgba(0, 0, 0, 0.15);\n",
              "        filter: drop-shadow(0px 1px 2px rgba(0, 0, 0, 0.3));\n",
              "        fill: #FFFFFF;\n",
              "      }\n",
              "    </style>\n",
              "    <button class=\"colab-df-generate\" onclick=\"generateWithVariable('df')\"\n",
              "            title=\"Generate code using this dataframe.\"\n",
              "            style=\"display:none;\">\n",
              "\n",
              "  <svg xmlns=\"http://www.w3.org/2000/svg\" height=\"24px\"viewBox=\"0 0 24 24\"\n",
              "       width=\"24px\">\n",
              "    <path d=\"M7,19H8.4L18.45,9,17,7.55,7,17.6ZM5,21V16.75L18.45,3.32a2,2,0,0,1,2.83,0l1.4,1.43a1.91,1.91,0,0,1,.58,1.4,1.91,1.91,0,0,1-.58,1.4L9.25,21ZM18.45,9,17,7.55Zm-12,3A5.31,5.31,0,0,0,4.9,8.1,5.31,5.31,0,0,0,1,6.5,5.31,5.31,0,0,0,4.9,4.9,5.31,5.31,0,0,0,6.5,1,5.31,5.31,0,0,0,8.1,4.9,5.31,5.31,0,0,0,12,6.5,5.46,5.46,0,0,0,6.5,12Z\"/>\n",
              "  </svg>\n",
              "    </button>\n",
              "    <script>\n",
              "      (() => {\n",
              "      const buttonEl =\n",
              "        document.querySelector('#id_9d792505-65d7-49d5-9ab7-a1401bd4b4a3 button.colab-df-generate');\n",
              "      buttonEl.style.display =\n",
              "        google.colab.kernel.accessAllowed ? 'block' : 'none';\n",
              "\n",
              "      buttonEl.onclick = () => {\n",
              "        google.colab.notebook.generateWithVariable('df');\n",
              "      }\n",
              "      })();\n",
              "    </script>\n",
              "  </div>\n",
              "\n",
              "    </div>\n",
              "  </div>\n"
            ],
            "application/vnd.google.colaboratory.intrinsic+json": {
              "type": "dataframe",
              "variable_name": "df",
              "summary": "{\n  \"name\": \"df\",\n  \"rows\": 18700,\n  \"fields\": [\n    {\n      \"column\": \"Unnamed: 0\",\n      \"properties\": {\n        \"dtype\": \"number\",\n        \"std\": 5398,\n        \"min\": 0,\n        \"max\": 18699,\n        \"num_unique_values\": 18700,\n        \"samples\": [\n          3070,\n          17530,\n          15598\n        ],\n        \"semantic_type\": \"\",\n        \"description\": \"\"\n      }\n    },\n    {\n      \"column\": \"Velocity\",\n      \"properties\": {\n        \"dtype\": \"number\",\n        \"std\": 31.70075682482431,\n        \"min\": 10.0012798230902,\n        \"max\": 119.991730951649,\n        \"num_unique_values\": 18700,\n        \"samples\": [\n          87.729285686658,\n          80.7477596279675,\n          92.1594020891075\n        ],\n        \"semantic_type\": \"\",\n        \"description\": \"\"\n      }\n    },\n    {\n      \"column\": \"Doppler shift \",\n      \"properties\": {\n        \"dtype\": \"number\",\n        \"std\": 57.62077350132661,\n        \"min\": 0.0011073351475987,\n        \"max\": 199.980195401846,\n        \"num_unique_values\": 18700,\n        \"samples\": [\n          71.346265622461,\n          193.601331241322,\n          99.126268380696\n        ],\n        \"semantic_type\": \"\",\n        \"description\": \"\"\n      }\n    },\n    {\n      \"column\": \"Distance \",\n      \"properties\": {\n        \"dtype\": \"number\",\n        \"std\": 2.8575819934602795,\n        \"min\": 0.100165688953553,\n        \"max\": 9.99972425894302,\n        \"num_unique_values\": 18700,\n        \"samples\": [\n          8.89688244912688,\n          3.97539441183109,\n          1.18315567710606\n        ],\n        \"semantic_type\": \"\",\n        \"description\": \"\"\n      }\n    },\n    {\n      \"column\": \"Average path Gain \",\n      \"properties\": {\n        \"dtype\": \"number\",\n        \"std\": 5.750511924441332,\n        \"min\": -19.9998313557739,\n        \"max\": -0.0012060790856303,\n        \"num_unique_values\": 18700,\n        \"samples\": [\n          -13.4391042284321,\n          -15.3578306146954,\n          -14.3986439960132\n        ],\n        \"semantic_type\": \"\",\n        \"description\": \"\"\n      }\n    },\n    {\n      \"column\": \"Path Delays \",\n      \"properties\": {\n        \"dtype\": \"number\",\n        \"std\": 28.664772009736815,\n        \"min\": 1.00999067910776,\n        \"max\": 99.9992121879936,\n        \"num_unique_values\": 18700,\n        \"samples\": [\n          93.1396909618186,\n          25.6601943336665,\n          5.06439968190674\n        ],\n        \"semantic_type\": \"\",\n        \"description\": \"\"\n      }\n    },\n    {\n      \"column\": \"CSI\",\n      \"properties\": {\n        \"dtype\": \"number\",\n        \"std\": 0,\n        \"min\": 0,\n        \"max\": 1,\n        \"num_unique_values\": 2,\n        \"samples\": [\n          0,\n          1\n        ],\n        \"semantic_type\": \"\",\n        \"description\": \"\"\n      }\n    }\n  ]\n}"
            }
          },
          "metadata": {},
          "execution_count": 5
        }
      ],
      "source": [
        "# Load the dataset\n",
        "df = pd.read_csv('/content/drive/My Drive/Colab Notebooks/NFRF ML/TempleBal.csv')\n",
        "df"
      ]
    },
    {
      "cell_type": "code",
      "execution_count": null,
      "metadata": {
        "id": "lnOPIppunc0u"
      },
      "outputs": [],
      "source": [
        "#Using DataFrame.drop() method.\n",
        "df2=df.drop(df.columns[0], axis=1)"
      ]
    },
    {
      "cell_type": "code",
      "execution_count": null,
      "metadata": {
        "id": "VknGeXyynmMC"
      },
      "outputs": [],
      "source": [
        "X = df2.iloc[:, :5].values\n",
        "Y = df2.iloc[:, 5:].values"
      ]
    },
    {
      "cell_type": "code",
      "execution_count": null,
      "metadata": {
        "id": "bDTLSbwgsvrk"
      },
      "outputs": [],
      "source": [
        "X"
      ]
    },
    {
      "cell_type": "code",
      "execution_count": null,
      "metadata": {
        "id": "pj5V74rtsxo9"
      },
      "outputs": [],
      "source": [
        "Y"
      ]
    },
    {
      "cell_type": "code",
      "execution_count": null,
      "metadata": {
        "id": "4hgBURyxnmTy"
      },
      "outputs": [],
      "source": [
        "# Data normalization using Min-Max scaling\n",
        "scaler = MinMaxScaler()\n",
        "X_scaled = scaler.fit_transform(X)"
      ]
    },
    {
      "cell_type": "code",
      "execution_count": null,
      "metadata": {
        "colab": {
          "background_save": true
        },
        "id": "jgqqQLIss1sr"
      },
      "outputs": [],
      "source": [
        "X_scaled"
      ]
    },
    {
      "cell_type": "code",
      "execution_count": null,
      "metadata": {
        "id": "JyTESXcMn8gy"
      },
      "outputs": [],
      "source": [
        "# Split data into train and test sets\n",
        "X_train, X_test, y_train, y_test = train_test_split(X_scaled, Y, test_size=0.2, random_state=42)"
      ]
    },
    {
      "cell_type": "code",
      "execution_count": null,
      "metadata": {
        "id": "XRcgav65CEu5"
      },
      "outputs": [],
      "source": [
        "# Reshape data for RNN/Bi-LSTM (3D format required: [samples, timesteps, features])\n",
        "X_train_rnn = X_train.reshape((X_train.shape[0], X_train.shape[1], 1))\n",
        "X_test_rnn = X_test.reshape((X_test.shape[0], X_test.shape[1], 1))"
      ]
    },
    {
      "cell_type": "code",
      "execution_count": null,
      "metadata": {
        "id": "xT9I4VXhn8rH"
      },
      "outputs": [],
      "source": [
        "# Function to evaluate model performance\n",
        "def evaluate_model(y_true, y_pred_prob):\n",
        "    y_pred = (y_pred_prob > 0.5).astype(int)  # Threshold at 0.5 for binary classification\n",
        "    accuracy = accuracy_score(y_true, y_pred)\n",
        "    precision = precision_score(y_true, y_pred)\n",
        "    recall = recall_score(y_true, y_pred)\n",
        "    f1 = f1_score(y_true, y_pred)\n",
        "    roc_auc = roc_auc_score(y_true, y_pred_prob)\n",
        "    return accuracy, precision, recall, f1, roc_auc"
      ]
    },
    {
      "cell_type": "code",
      "execution_count": null,
      "metadata": {
        "colab": {
          "base_uri": "https://localhost:8080/"
        },
        "id": "3MWTD-9joOhg",
        "outputId": "8f8eafba-28aa-4587-ea70-3eed977dc303"
      },
      "outputs": [
        {
          "output_type": "stream",
          "name": "stdout",
          "text": [
            "Epoch 1/50\n",
            "374/374 [==============================] - 7s 13ms/step - loss: 0.3960 - accuracy: 0.8017 - val_loss: 0.2929 - val_accuracy: 0.8686\n",
            "Epoch 2/50\n",
            "374/374 [==============================] - 3s 7ms/step - loss: 0.2829 - accuracy: 0.8742 - val_loss: 0.2574 - val_accuracy: 0.8837\n",
            "Epoch 3/50\n",
            "374/374 [==============================] - 3s 7ms/step - loss: 0.2245 - accuracy: 0.9058 - val_loss: 0.1567 - val_accuracy: 0.9345\n",
            "Epoch 4/50\n",
            "374/374 [==============================] - 3s 7ms/step - loss: 0.1789 - accuracy: 0.9271 - val_loss: 0.1564 - val_accuracy: 0.9358\n",
            "Epoch 5/50\n",
            "374/374 [==============================] - 4s 9ms/step - loss: 0.1466 - accuracy: 0.9385 - val_loss: 0.1888 - val_accuracy: 0.9258\n",
            "Epoch 6/50\n",
            "374/374 [==============================] - 4s 10ms/step - loss: 0.1383 - accuracy: 0.9459 - val_loss: 0.1281 - val_accuracy: 0.9542\n",
            "Epoch 7/50\n",
            "374/374 [==============================] - 5s 12ms/step - loss: 0.1236 - accuracy: 0.9524 - val_loss: 0.1842 - val_accuracy: 0.9422\n",
            "Epoch 8/50\n",
            "374/374 [==============================] - 6s 17ms/step - loss: 0.1150 - accuracy: 0.9575 - val_loss: 0.1051 - val_accuracy: 0.9619\n",
            "Epoch 9/50\n",
            "374/374 [==============================] - 7s 19ms/step - loss: 0.1082 - accuracy: 0.9605 - val_loss: 0.1026 - val_accuracy: 0.9602\n",
            "Epoch 10/50\n",
            "374/374 [==============================] - 6s 16ms/step - loss: 0.0991 - accuracy: 0.9622 - val_loss: 0.0906 - val_accuracy: 0.9662\n",
            "Epoch 11/50\n",
            "374/374 [==============================] - 5s 14ms/step - loss: 0.0918 - accuracy: 0.9672 - val_loss: 0.1200 - val_accuracy: 0.9576\n",
            "Epoch 12/50\n",
            "374/374 [==============================] - 3s 7ms/step - loss: 0.0897 - accuracy: 0.9675 - val_loss: 0.0668 - val_accuracy: 0.9749\n",
            "Epoch 13/50\n",
            "374/374 [==============================] - 3s 7ms/step - loss: 0.0807 - accuracy: 0.9704 - val_loss: 0.0564 - val_accuracy: 0.9773\n",
            "Epoch 14/50\n",
            "374/374 [==============================] - 3s 7ms/step - loss: 0.0842 - accuracy: 0.9682 - val_loss: 0.0773 - val_accuracy: 0.9656\n",
            "Epoch 15/50\n",
            "374/374 [==============================] - 3s 9ms/step - loss: 0.0790 - accuracy: 0.9698 - val_loss: 0.0645 - val_accuracy: 0.9756\n",
            "Epoch 16/50\n",
            "374/374 [==============================] - 4s 10ms/step - loss: 0.0757 - accuracy: 0.9718 - val_loss: 0.0718 - val_accuracy: 0.9779\n",
            "Epoch 17/50\n",
            "374/374 [==============================] - 3s 7ms/step - loss: 0.0705 - accuracy: 0.9756 - val_loss: 0.0720 - val_accuracy: 0.9759\n",
            "Epoch 18/50\n",
            "374/374 [==============================] - 3s 7ms/step - loss: 0.0570 - accuracy: 0.9787 - val_loss: 0.0818 - val_accuracy: 0.9713\n",
            "Epoch 19/50\n",
            "374/374 [==============================] - 3s 7ms/step - loss: 0.0549 - accuracy: 0.9797 - val_loss: 0.0754 - val_accuracy: 0.9763\n",
            "Epoch 20/50\n",
            "374/374 [==============================] - 3s 9ms/step - loss: 0.0502 - accuracy: 0.9815 - val_loss: 0.0498 - val_accuracy: 0.9836\n",
            "Epoch 21/50\n",
            "374/374 [==============================] - 4s 9ms/step - loss: 0.0534 - accuracy: 0.9807 - val_loss: 0.0624 - val_accuracy: 0.9813\n",
            "Epoch 22/50\n",
            "374/374 [==============================] - 3s 7ms/step - loss: 0.0541 - accuracy: 0.9804 - val_loss: 0.1030 - val_accuracy: 0.9656\n",
            "Epoch 23/50\n",
            "374/374 [==============================] - 3s 7ms/step - loss: 0.0498 - accuracy: 0.9799 - val_loss: 0.0812 - val_accuracy: 0.9749\n",
            "Epoch 24/50\n",
            "374/374 [==============================] - 3s 7ms/step - loss: 0.0426 - accuracy: 0.9849 - val_loss: 0.0399 - val_accuracy: 0.9856\n",
            "Epoch 25/50\n",
            "374/374 [==============================] - 4s 10ms/step - loss: 0.0466 - accuracy: 0.9827 - val_loss: 0.0784 - val_accuracy: 0.9726\n",
            "Epoch 26/50\n",
            "374/374 [==============================] - 3s 8ms/step - loss: 0.0509 - accuracy: 0.9816 - val_loss: 0.0489 - val_accuracy: 0.9836\n",
            "Epoch 27/50\n",
            "374/374 [==============================] - 3s 7ms/step - loss: 0.0433 - accuracy: 0.9844 - val_loss: 0.0342 - val_accuracy: 0.9876\n",
            "Epoch 28/50\n",
            "374/374 [==============================] - 3s 7ms/step - loss: 0.0482 - accuracy: 0.9818 - val_loss: 0.0367 - val_accuracy: 0.9866\n",
            "Epoch 29/50\n",
            "374/374 [==============================] - 3s 7ms/step - loss: 0.0432 - accuracy: 0.9846 - val_loss: 0.0384 - val_accuracy: 0.9866\n",
            "Epoch 30/50\n",
            "374/374 [==============================] - 4s 11ms/step - loss: 0.0450 - accuracy: 0.9839 - val_loss: 0.0433 - val_accuracy: 0.9836\n",
            "Epoch 31/50\n",
            "374/374 [==============================] - 3s 8ms/step - loss: 0.0452 - accuracy: 0.9845 - val_loss: 0.0424 - val_accuracy: 0.9846\n",
            "Epoch 32/50\n",
            "374/374 [==============================] - 3s 7ms/step - loss: 0.0383 - accuracy: 0.9856 - val_loss: 0.0319 - val_accuracy: 0.9873\n",
            "Epoch 33/50\n",
            "374/374 [==============================] - 3s 7ms/step - loss: 0.0462 - accuracy: 0.9830 - val_loss: 0.0425 - val_accuracy: 0.9840\n",
            "Epoch 34/50\n",
            "374/374 [==============================] - 3s 7ms/step - loss: 0.0460 - accuracy: 0.9835 - val_loss: 0.0394 - val_accuracy: 0.9843\n",
            "Epoch 35/50\n",
            "374/374 [==============================] - 4s 12ms/step - loss: 0.0384 - accuracy: 0.9865 - val_loss: 0.0414 - val_accuracy: 0.9843\n",
            "Epoch 36/50\n",
            "374/374 [==============================] - 3s 7ms/step - loss: 0.0426 - accuracy: 0.9847 - val_loss: 0.0463 - val_accuracy: 0.9823\n",
            "Epoch 37/50\n",
            "374/374 [==============================] - 3s 7ms/step - loss: 0.0393 - accuracy: 0.9848 - val_loss: 0.0415 - val_accuracy: 0.9846\n",
            "Epoch 38/50\n",
            "374/374 [==============================] - 3s 7ms/step - loss: 0.0436 - accuracy: 0.9840 - val_loss: 0.0837 - val_accuracy: 0.9672\n",
            "Epoch 39/50\n",
            "374/374 [==============================] - 3s 8ms/step - loss: 0.0360 - accuracy: 0.9859 - val_loss: 0.0540 - val_accuracy: 0.9803\n",
            "Epoch 40/50\n",
            "374/374 [==============================] - 4s 11ms/step - loss: 0.0406 - accuracy: 0.9840 - val_loss: 0.0338 - val_accuracy: 0.9876\n",
            "Epoch 41/50\n",
            "374/374 [==============================] - 4s 12ms/step - loss: 0.0362 - accuracy: 0.9870 - val_loss: 0.0426 - val_accuracy: 0.9836\n",
            "Epoch 42/50\n",
            "374/374 [==============================] - 3s 9ms/step - loss: 0.0379 - accuracy: 0.9864 - val_loss: 0.0469 - val_accuracy: 0.9786\n",
            "Epoch 43/50\n",
            "374/374 [==============================] - 6s 15ms/step - loss: 0.0398 - accuracy: 0.9847 - val_loss: 0.0415 - val_accuracy: 0.9846\n",
            "Epoch 44/50\n",
            "374/374 [==============================] - 3s 8ms/step - loss: 0.0343 - accuracy: 0.9865 - val_loss: 0.0459 - val_accuracy: 0.9803\n",
            "Epoch 45/50\n",
            "374/374 [==============================] - 3s 7ms/step - loss: 0.0336 - accuracy: 0.9882 - val_loss: 0.0241 - val_accuracy: 0.9903\n",
            "Epoch 46/50\n",
            "374/374 [==============================] - 3s 7ms/step - loss: 0.0409 - accuracy: 0.9850 - val_loss: 0.0722 - val_accuracy: 0.9759\n",
            "Epoch 47/50\n",
            "374/374 [==============================] - 3s 7ms/step - loss: 0.0415 - accuracy: 0.9838 - val_loss: 0.0535 - val_accuracy: 0.9809\n",
            "Epoch 48/50\n",
            "374/374 [==============================] - 4s 12ms/step - loss: 0.0387 - accuracy: 0.9858 - val_loss: 0.0268 - val_accuracy: 0.9873\n",
            "Epoch 49/50\n",
            "374/374 [==============================] - 3s 7ms/step - loss: 0.0380 - accuracy: 0.9875 - val_loss: 0.0311 - val_accuracy: 0.9880\n",
            "Epoch 50/50\n",
            "374/374 [==============================] - 3s 7ms/step - loss: 0.0411 - accuracy: 0.9843 - val_loss: 0.0704 - val_accuracy: 0.9749\n"
          ]
        },
        {
          "output_type": "execute_result",
          "data": {
            "text/plain": [
              "<keras.callbacks.History at 0x7da88d04ae50>"
            ]
          },
          "metadata": {},
          "execution_count": 12
        }
      ],
      "source": [
        "# Build and train a Bi-LSTM model\n",
        "bi_lstm_model = Sequential([\n",
        "    Bidirectional(LSTM(64, activation='relu'), input_shape=(X_train_rnn.shape[1], X_train_rnn.shape[2])),\n",
        "    Dense(1, activation='sigmoid')  # Binary classification\n",
        "])\n",
        "bi_lstm_model.compile(optimizer=Adam(learning_rate=0.01), loss='binary_crossentropy', metrics=['accuracy'])\n",
        "bi_lstm_model.fit(X_train_rnn, y_train, epochs=50, batch_size=32, validation_split=0.2, verbose=1)"
      ]
    },
    {
      "cell_type": "code",
      "source": [
        "# Predict with Bi-LSTM\n",
        "y_pred_bi_lstm_prob = bi_lstm_model.predict(X_test_rnn)\n",
        "y_pred_bi_lstm = (y_pred_bi_lstm_prob > 0.5).astype(int).flatten()  # Convert probabilities to binary labels"
      ],
      "metadata": {
        "colab": {
          "base_uri": "https://localhost:8080/"
        },
        "id": "E5QOreaqpsqq",
        "outputId": "290695a8-b583-4663-ee40-8efcee608894"
      },
      "execution_count": null,
      "outputs": [
        {
          "output_type": "stream",
          "name": "stdout",
          "text": [
            "117/117 [==============================] - 1s 7ms/step\n"
          ]
        }
      ]
    },
    {
      "cell_type": "code",
      "execution_count": null,
      "metadata": {
        "colab": {
          "base_uri": "https://localhost:8080/"
        },
        "id": "Txleb-_NWS7Z",
        "outputId": "07efc024-c64e-4b75-9a31-94f496ed52fe"
      },
      "outputs": [
        {
          "output_type": "stream",
          "name": "stdout",
          "text": [
            "\n",
            "Bi-LSTM Performance Metrics:\n",
            "Accuracy: 0.9762, Precision: 0.9607, Recall: 0.9937, F1-Score: 0.9769, ROC-AUC: 0.9974\n"
          ]
        }
      ],
      "source": [
        "print(\"\\nBi-LSTM Performance Metrics:\")\n",
        "print(\"Accuracy: {:.4f}, Precision: {:.4f}, Recall: {:.4f}, F1-Score: {:.4f}, ROC-AUC: {:.4f}\".format(*bi_lstm_metrics))\n"
      ]
    },
    {
      "cell_type": "code",
      "source": [
        "# Function to plot and print confusion matrix\n",
        "def plot_and_print_confusion_matrix(y_true, y_pred, title=\"Confusion Matrix\"):\n",
        "    cm = confusion_matrix(y_true, y_pred)\n",
        "    print(\"Confusion Matrix:\")\n",
        "    print(cm)\n",
        "\n",
        "    plt.figure(figsize=(6, 5))\n",
        "    sns.heatmap(cm, annot=True, fmt=\"d\", cmap=\"Blues\", xticklabels=[\"Negative\", \"Positive\"], yticklabels=[\"Negative\", \"Positive\"])\n",
        "    plt.xlabel(\"Predicted\")\n",
        "    plt.ylabel(\"Actual\")\n",
        "    plt.title(title)\n",
        "    plt.show()"
      ],
      "metadata": {
        "id": "_fQ7L-42pROo"
      },
      "execution_count": null,
      "outputs": []
    },
    {
      "cell_type": "code",
      "source": [
        "# Print and plot confusion matrix\n",
        "plot_and_print_confusion_matrix(y_test, y_pred_bi_lstm, \"BiLSTM\")"
      ],
      "metadata": {
        "colab": {
          "base_uri": "https://localhost:8080/",
          "height": 542
        },
        "id": "U6M7nxdBpT8y",
        "outputId": "f58bcca6-0767-462e-cf96-266ad4c397f4"
      },
      "execution_count": null,
      "outputs": [
        {
          "output_type": "stream",
          "name": "stdout",
          "text": [
            "Confusion Matrix:\n",
            "[[1770   77]\n",
            " [  12 1881]]\n"
          ]
        },
        {
          "output_type": "display_data",
          "data": {
            "text/plain": [
              "<Figure size 600x500 with 2 Axes>"
            ],
            "image/png": "[encoded data removed]"
          },
          "metadata": {}
        }
      ]
    },
    {
      "cell_type": "code",
      "execution_count": null,
      "metadata": {
        "colab": {
          "base_uri": "https://localhost:8080/"
        },
        "id": "uyGwkGAZFZqJ",
        "outputId": "7fd38fae-1d92-4982-9bdb-537f3282738b"
      },
      "outputs": [
        {
          "output_type": "stream",
          "name": "stdout",
          "text": [
            "Epoch 1/50\n",
            "374/374 [==============================] - 7s 7ms/step - loss: 0.3257 - accuracy: 0.8557 - val_loss: 0.2581 - val_accuracy: 0.8840\n",
            "Epoch 2/50\n",
            "374/374 [==============================] - 2s 6ms/step - loss: 0.2019 - accuracy: 0.9169 - val_loss: 0.1549 - val_accuracy: 0.9435\n",
            "Epoch 3/50\n",
            "374/374 [==============================] - 2s 6ms/step - loss: 0.1747 - accuracy: 0.9303 - val_loss: 0.1400 - val_accuracy: 0.9495\n",
            "Epoch 4/50\n",
            "374/374 [==============================] - 2s 5ms/step - loss: 0.1528 - accuracy: 0.9398 - val_loss: 0.1328 - val_accuracy: 0.9515\n",
            "Epoch 5/50\n",
            "374/374 [==============================] - 2s 5ms/step - loss: 0.1307 - accuracy: 0.9519 - val_loss: 0.1267 - val_accuracy: 0.9472\n",
            "Epoch 6/50\n",
            "374/374 [==============================] - 2s 5ms/step - loss: 0.1330 - accuracy: 0.9523 - val_loss: 0.1705 - val_accuracy: 0.9342\n",
            "Epoch 7/50\n",
            "374/374 [==============================] - 2s 4ms/step - loss: 0.1137 - accuracy: 0.9578 - val_loss: 0.0843 - val_accuracy: 0.9696\n",
            "Epoch 8/50\n",
            "374/374 [==============================] - 1s 3ms/step - loss: 0.1048 - accuracy: 0.9627 - val_loss: 0.0975 - val_accuracy: 0.9652\n",
            "Epoch 9/50\n",
            "374/374 [==============================] - 1s 3ms/step - loss: 0.1124 - accuracy: 0.9591 - val_loss: 0.1070 - val_accuracy: 0.9629\n",
            "Epoch 10/50\n",
            "374/374 [==============================] - 1s 3ms/step - loss: 0.0975 - accuracy: 0.9657 - val_loss: 0.1028 - val_accuracy: 0.9566\n",
            "Epoch 11/50\n",
            "374/374 [==============================] - 1s 4ms/step - loss: 0.1025 - accuracy: 0.9641 - val_loss: 0.1266 - val_accuracy: 0.9602\n",
            "Epoch 12/50\n",
            "374/374 [==============================] - 2s 6ms/step - loss: 0.0896 - accuracy: 0.9681 - val_loss: 0.0602 - val_accuracy: 0.9806\n",
            "Epoch 13/50\n",
            "374/374 [==============================] - 3s 7ms/step - loss: 0.0955 - accuracy: 0.9673 - val_loss: 0.1049 - val_accuracy: 0.9596\n",
            "Epoch 14/50\n",
            "374/374 [==============================] - 3s 9ms/step - loss: 0.0898 - accuracy: 0.9686 - val_loss: 0.1246 - val_accuracy: 0.9562\n",
            "Epoch 15/50\n",
            "374/374 [==============================] - 3s 8ms/step - loss: 0.1042 - accuracy: 0.9637 - val_loss: 0.0919 - val_accuracy: 0.9662\n",
            "Epoch 16/50\n",
            "374/374 [==============================] - 3s 7ms/step - loss: 0.0843 - accuracy: 0.9686 - val_loss: 0.0975 - val_accuracy: 0.9652\n",
            "Epoch 17/50\n",
            "374/374 [==============================] - 2s 6ms/step - loss: 0.0815 - accuracy: 0.9705 - val_loss: 0.0871 - val_accuracy: 0.9709\n",
            "Epoch 18/50\n",
            "374/374 [==============================] - 2s 6ms/step - loss: 0.0771 - accuracy: 0.9728 - val_loss: 0.1383 - val_accuracy: 0.9465\n",
            "Epoch 19/50\n",
            "374/374 [==============================] - 3s 7ms/step - loss: 0.0826 - accuracy: 0.9701 - val_loss: 0.0922 - val_accuracy: 0.9652\n",
            "Epoch 20/50\n",
            "374/374 [==============================] - 2s 5ms/step - loss: 0.0953 - accuracy: 0.9659 - val_loss: 0.0959 - val_accuracy: 0.9619\n",
            "Epoch 21/50\n",
            "374/374 [==============================] - 2s 4ms/step - loss: 0.0822 - accuracy: 0.9691 - val_loss: 0.0664 - val_accuracy: 0.9803\n",
            "Epoch 22/50\n",
            "374/374 [==============================] - 2s 6ms/step - loss: 0.0878 - accuracy: 0.9690 - val_loss: 0.1104 - val_accuracy: 0.9592\n",
            "Epoch 23/50\n",
            "374/374 [==============================] - 2s 6ms/step - loss: 0.0667 - accuracy: 0.9751 - val_loss: 0.0699 - val_accuracy: 0.9699\n",
            "Epoch 24/50\n",
            "374/374 [==============================] - 2s 5ms/step - loss: 0.0825 - accuracy: 0.9725 - val_loss: 0.0814 - val_accuracy: 0.9669\n",
            "Epoch 25/50\n",
            "374/374 [==============================] - 2s 5ms/step - loss: 0.0760 - accuracy: 0.9723 - val_loss: 0.0583 - val_accuracy: 0.9799\n",
            "Epoch 26/50\n",
            "374/374 [==============================] - 1s 4ms/step - loss: 0.0808 - accuracy: 0.9718 - val_loss: 0.0681 - val_accuracy: 0.9766\n",
            "Epoch 27/50\n",
            "374/374 [==============================] - 2s 5ms/step - loss: 0.0689 - accuracy: 0.9756 - val_loss: 0.1190 - val_accuracy: 0.9542\n",
            "Epoch 28/50\n",
            "374/374 [==============================] - 2s 5ms/step - loss: 0.0858 - accuracy: 0.9696 - val_loss: 0.0716 - val_accuracy: 0.9719\n",
            "Epoch 29/50\n",
            "374/374 [==============================] - 1s 4ms/step - loss: 0.0792 - accuracy: 0.9718 - val_loss: 0.0706 - val_accuracy: 0.9749\n",
            "Epoch 30/50\n",
            "374/374 [==============================] - 1s 4ms/step - loss: 0.0666 - accuracy: 0.9765 - val_loss: 0.0518 - val_accuracy: 0.9836\n",
            "Epoch 31/50\n",
            "374/374 [==============================] - 1s 4ms/step - loss: 0.0750 - accuracy: 0.9730 - val_loss: 0.0484 - val_accuracy: 0.9823\n",
            "Epoch 32/50\n",
            "374/374 [==============================] - 1s 4ms/step - loss: 0.0646 - accuracy: 0.9777 - val_loss: 0.0512 - val_accuracy: 0.9823\n",
            "Epoch 33/50\n",
            "374/374 [==============================] - 1s 4ms/step - loss: 0.0789 - accuracy: 0.9724 - val_loss: 0.0497 - val_accuracy: 0.9833\n",
            "Epoch 34/50\n",
            "374/374 [==============================] - 1s 3ms/step - loss: 0.0683 - accuracy: 0.9754 - val_loss: 0.0729 - val_accuracy: 0.9746\n",
            "Epoch 35/50\n",
            "374/374 [==============================] - 1s 4ms/step - loss: 0.0622 - accuracy: 0.9786 - val_loss: 0.0794 - val_accuracy: 0.9699\n",
            "Epoch 36/50\n",
            "374/374 [==============================] - 2s 6ms/step - loss: 0.0657 - accuracy: 0.9759 - val_loss: 0.0490 - val_accuracy: 0.9806\n",
            "Epoch 37/50\n",
            "374/374 [==============================] - 3s 7ms/step - loss: 0.0645 - accuracy: 0.9777 - val_loss: 0.0825 - val_accuracy: 0.9706\n",
            "Epoch 38/50\n",
            "374/374 [==============================] - 2s 6ms/step - loss: 0.0735 - accuracy: 0.9744 - val_loss: 0.0767 - val_accuracy: 0.9759\n",
            "Epoch 39/50\n",
            "374/374 [==============================] - 2s 4ms/step - loss: 0.0657 - accuracy: 0.9778 - val_loss: 0.0806 - val_accuracy: 0.9806\n",
            "Epoch 40/50\n",
            "374/374 [==============================] - 2s 5ms/step - loss: 0.0764 - accuracy: 0.9735 - val_loss: 0.0499 - val_accuracy: 0.9843\n",
            "Epoch 41/50\n",
            "374/374 [==============================] - 2s 6ms/step - loss: 0.0736 - accuracy: 0.9751 - val_loss: 0.0540 - val_accuracy: 0.9846\n",
            "Epoch 42/50\n",
            "374/374 [==============================] - 2s 6ms/step - loss: 0.0562 - accuracy: 0.9790 - val_loss: 0.0449 - val_accuracy: 0.9860\n",
            "Epoch 43/50\n",
            "374/374 [==============================] - 3s 7ms/step - loss: 0.0579 - accuracy: 0.9789 - val_loss: 0.0438 - val_accuracy: 0.9840\n",
            "Epoch 44/50\n",
            "374/374 [==============================] - 3s 7ms/step - loss: 0.0846 - accuracy: 0.9737 - val_loss: 0.0456 - val_accuracy: 0.9796\n",
            "Epoch 45/50\n",
            "374/374 [==============================] - 2s 7ms/step - loss: 0.0634 - accuracy: 0.9775 - val_loss: 0.0544 - val_accuracy: 0.9816\n",
            "Epoch 46/50\n",
            "374/374 [==============================] - 2s 6ms/step - loss: 0.0744 - accuracy: 0.9744 - val_loss: 0.0590 - val_accuracy: 0.9743\n",
            "Epoch 47/50\n",
            "374/374 [==============================] - 2s 5ms/step - loss: 0.0594 - accuracy: 0.9804 - val_loss: 0.0436 - val_accuracy: 0.9836\n",
            "Epoch 48/50\n",
            "374/374 [==============================] - 1s 4ms/step - loss: 0.0841 - accuracy: 0.9706 - val_loss: 0.0562 - val_accuracy: 0.9793\n",
            "Epoch 49/50\n",
            "374/374 [==============================] - 1s 3ms/step - loss: 0.0601 - accuracy: 0.9779 - val_loss: 0.0723 - val_accuracy: 0.9746\n",
            "Epoch 50/50\n",
            "374/374 [==============================] - 2s 4ms/step - loss: 0.0569 - accuracy: 0.9813 - val_loss: 0.0478 - val_accuracy: 0.9809\n"
          ]
        },
        {
          "output_type": "execute_result",
          "data": {
            "text/plain": [
              "<keras.callbacks.History at 0x7da885c5e8d0>"
            ]
          },
          "metadata": {},
          "execution_count": 32
        }
      ],
      "source": [
        "# Build and train an RNN model\n",
        "rnn_model = Sequential([\n",
        "    SimpleRNN(64, input_shape=(X_train_rnn.shape[1], X_train_rnn.shape[2]), activation='relu'),\n",
        "    Dense(1, activation='sigmoid')  # Binary classification\n",
        "])\n",
        "rnn_model.compile(optimizer=Adam(learning_rate=0.01), loss='binary_crossentropy', metrics=['accuracy'])\n",
        "rnn_model.fit(X_train_rnn, y_train, epochs=50, batch_size=32, validation_split=0.2, verbose=1)"
      ]
    },
    {
      "cell_type": "code",
      "source": [
        "y_pred_rnn_prob = rnn_model.predict(X_test_rnn)\n",
        "y_pred_rnn = (y_pred_rnn_prob > 0.5).astype(int).flatten()  # Convert probabilities to binary labels"
      ],
      "metadata": {
        "colab": {
          "base_uri": "https://localhost:8080/"
        },
        "id": "PdbxAnuKrUvT",
        "outputId": "33282902-09d4-4e48-935e-9678703a8651"
      },
      "execution_count": null,
      "outputs": [
        {
          "output_type": "stream",
          "name": "stdout",
          "text": [
            "117/117 [==============================] - 1s 4ms/step\n"
          ]
        }
      ]
    },
    {
      "cell_type": "code",
      "source": [
        "# Print and plot confusion matrix for RNN\n",
        "plot_and_print_confusion_matrix(y_test, y_pred_rnn, \"RNN Confusion Matrix\")"
      ],
      "metadata": {
        "colab": {
          "base_uri": "https://localhost:8080/",
          "height": 542
        },
        "id": "yTQlymkVrXP2",
        "outputId": "8a0fe2b9-dbf9-4570-e810-76fe1f72f8fc"
      },
      "execution_count": null,
      "outputs": [
        {
          "output_type": "stream",
          "name": "stdout",
          "text": [
            "Confusion Matrix:\n",
            "[[1829   18]\n",
            " [  38 1855]]\n"
          ]
        },
        {
          "output_type": "display_data",
          "data": {
            "text/plain": [
              "<Figure size 600x500 with 2 Axes>"
            ],
            "image/png": "[encoded data removed]"
          },
          "metadata": {}
        }
      ]
    },
    {
      "cell_type": "code",
      "execution_count": null,
      "metadata": {
        "colab": {
          "background_save": true
        },
        "id": "18zYQbEgFmDt"
      },
      "outputs": [],
      "source": [
        "# Print Performance Metrics\n",
        "print(\"\\nRNN Performance Metrics:\")\n",
        "print(\"Accuracy: {:.4f}, Precision: {:.4f}, Recall: {:.4f}, F1-Score: {:.4f}, ROC-AUC: {:.4f}\".format(*rnn_metrics))"
      ]
    },
    {
      "cell_type": "code",
      "execution_count": null,
      "metadata": {
        "id": "XfNdQ5agIS5h"
      },
      "outputs": [],
      "source": [
        "#LSTM"
      ]
    },
    {
      "cell_type": "code",
      "execution_count": null,
      "metadata": {
        "id": "TnUUvUDjIfXN"
      },
      "outputs": [],
      "source": [
        "# Reshape the dataset for LSTM\n",
        "X_train_lstm = X_train.reshape((X_train.shape[0], X_train.shape[1], 1))\n",
        "X_test_lstm = X_test.reshape((X_test.shape[0], X_test.shape[1], 1))"
      ]
    },
    {
      "cell_type": "code",
      "execution_count": null,
      "metadata": {
        "id": "oAjgdrPYJT0W"
      },
      "outputs": [],
      "source": [
        "# Define the LSTM model\n",
        "lstm_model = Sequential([\n",
        "    LSTM(64, input_shape=(X_train_lstm.shape[1], X_train_lstm.shape[2]), activation='relu'),\n",
        "    Dense(1, activation='sigmoid')  # Binary classification\n",
        "])"
      ]
    },
    {
      "cell_type": "code",
      "execution_count": null,
      "metadata": {
        "colab": {
          "base_uri": "https://localhost:8080/"
        },
        "id": "uSuu_d27JU7P",
        "outputId": "dba16f0f-dc62-45fd-c6a3-f5715300bf04"
      },
      "outputs": [
        {
          "output_type": "stream",
          "name": "stdout",
          "text": [
            "Epoch 1/50\n",
            "374/374 [==============================] - 4s 6ms/step - loss: 0.4155 - accuracy: 0.7891 - val_loss: 0.2969 - val_accuracy: 0.8697\n",
            "Epoch 2/50\n",
            "374/374 [==============================] - 3s 7ms/step - loss: 0.2937 - accuracy: 0.8676 - val_loss: 0.2564 - val_accuracy: 0.8854\n",
            "Epoch 3/50\n",
            "374/374 [==============================] - 3s 7ms/step - loss: 0.2440 - accuracy: 0.8920 - val_loss: 0.2060 - val_accuracy: 0.9184\n",
            "Epoch 4/50\n",
            "374/374 [==============================] - 2s 5ms/step - loss: 0.2113 - accuracy: 0.9095 - val_loss: 0.2004 - val_accuracy: 0.9218\n",
            "Epoch 5/50\n",
            "374/374 [==============================] - 2s 5ms/step - loss: 0.1702 - accuracy: 0.9293 - val_loss: 0.1728 - val_accuracy: 0.9258\n",
            "Epoch 6/50\n",
            "374/374 [==============================] - 2s 6ms/step - loss: 0.1535 - accuracy: 0.9357 - val_loss: 0.1386 - val_accuracy: 0.9402\n",
            "Epoch 7/50\n",
            "374/374 [==============================] - 2s 5ms/step - loss: 0.1366 - accuracy: 0.9455 - val_loss: 0.1467 - val_accuracy: 0.9382\n",
            "Epoch 8/50\n",
            "374/374 [==============================] - 2s 6ms/step - loss: 0.1277 - accuracy: 0.9476 - val_loss: 0.1100 - val_accuracy: 0.9576\n",
            "Epoch 9/50\n",
            "374/374 [==============================] - 3s 9ms/step - loss: 0.1210 - accuracy: 0.9514 - val_loss: 0.1230 - val_accuracy: 0.9525\n",
            "Epoch 10/50\n",
            "374/374 [==============================] - 2s 5ms/step - loss: 0.1161 - accuracy: 0.9556 - val_loss: 0.0903 - val_accuracy: 0.9642\n",
            "Epoch 11/50\n",
            "374/374 [==============================] - 2s 6ms/step - loss: 0.1063 - accuracy: 0.9578 - val_loss: 0.0983 - val_accuracy: 0.9596\n",
            "Epoch 12/50\n",
            "374/374 [==============================] - 2s 5ms/step - loss: 0.0986 - accuracy: 0.9613 - val_loss: 0.0868 - val_accuracy: 0.9689\n",
            "Epoch 13/50\n",
            "374/374 [==============================] - 2s 5ms/step - loss: 0.1020 - accuracy: 0.9589 - val_loss: 0.0841 - val_accuracy: 0.9679\n",
            "Epoch 14/50\n",
            "374/374 [==============================] - 2s 5ms/step - loss: 0.0849 - accuracy: 0.9669 - val_loss: 0.0729 - val_accuracy: 0.9716\n",
            "Epoch 15/50\n",
            "374/374 [==============================] - 3s 8ms/step - loss: 0.0824 - accuracy: 0.9685 - val_loss: 0.1009 - val_accuracy: 0.9656\n",
            "Epoch 16/50\n",
            "374/374 [==============================] - 2s 7ms/step - loss: 0.0889 - accuracy: 0.9658 - val_loss: 0.0687 - val_accuracy: 0.9743\n",
            "Epoch 17/50\n",
            "374/374 [==============================] - 2s 5ms/step - loss: 0.0783 - accuracy: 0.9711 - val_loss: 0.0847 - val_accuracy: 0.9669\n",
            "Epoch 18/50\n",
            "374/374 [==============================] - 2s 6ms/step - loss: 0.0852 - accuracy: 0.9680 - val_loss: 0.0816 - val_accuracy: 0.9706\n",
            "Epoch 19/50\n",
            "374/374 [==============================] - 2s 5ms/step - loss: 0.0718 - accuracy: 0.9730 - val_loss: 0.0926 - val_accuracy: 0.9656\n",
            "Epoch 20/50\n",
            "374/374 [==============================] - 2s 5ms/step - loss: 0.0759 - accuracy: 0.9716 - val_loss: 0.1037 - val_accuracy: 0.9576\n",
            "Epoch 21/50\n",
            "374/374 [==============================] - 2s 7ms/step - loss: 0.0773 - accuracy: 0.9689 - val_loss: 0.0761 - val_accuracy: 0.9693\n",
            "Epoch 22/50\n",
            "374/374 [==============================] - 3s 8ms/step - loss: 0.0754 - accuracy: 0.9717 - val_loss: 0.0772 - val_accuracy: 0.9706\n",
            "Epoch 23/50\n",
            "374/374 [==============================] - 2s 5ms/step - loss: 0.0679 - accuracy: 0.9738 - val_loss: 0.0645 - val_accuracy: 0.9753\n",
            "Epoch 24/50\n",
            "374/374 [==============================] - 2s 5ms/step - loss: 0.0649 - accuracy: 0.9757 - val_loss: 0.0454 - val_accuracy: 0.9836\n",
            "Epoch 25/50\n",
            "374/374 [==============================] - 2s 5ms/step - loss: 0.0665 - accuracy: 0.9753 - val_loss: 0.0615 - val_accuracy: 0.9783\n",
            "Epoch 26/50\n",
            "374/374 [==============================] - 2s 5ms/step - loss: 0.0615 - accuracy: 0.9768 - val_loss: 0.0704 - val_accuracy: 0.9763\n",
            "Epoch 27/50\n",
            "374/374 [==============================] - 2s 5ms/step - loss: 0.0625 - accuracy: 0.9766 - val_loss: 0.0870 - val_accuracy: 0.9689\n",
            "Epoch 28/50\n",
            "374/374 [==============================] - 3s 8ms/step - loss: 0.0679 - accuracy: 0.9728 - val_loss: 0.0548 - val_accuracy: 0.9776\n",
            "Epoch 29/50\n",
            "374/374 [==============================] - 2s 6ms/step - loss: 0.0626 - accuracy: 0.9769 - val_loss: 0.0878 - val_accuracy: 0.9616\n",
            "Epoch 30/50\n",
            "374/374 [==============================] - 2s 5ms/step - loss: 0.0672 - accuracy: 0.9733 - val_loss: 0.0710 - val_accuracy: 0.9696\n",
            "Epoch 31/50\n",
            "374/374 [==============================] - 2s 5ms/step - loss: 0.0620 - accuracy: 0.9773 - val_loss: 0.0538 - val_accuracy: 0.9789\n",
            "Epoch 32/50\n",
            "374/374 [==============================] - 2s 5ms/step - loss: 0.0603 - accuracy: 0.9776 - val_loss: 0.0578 - val_accuracy: 0.9783\n",
            "Epoch 33/50\n",
            "374/374 [==============================] - 2s 5ms/step - loss: 0.0588 - accuracy: 0.9771 - val_loss: 0.0821 - val_accuracy: 0.9699\n",
            "Epoch 34/50\n",
            "374/374 [==============================] - 2s 6ms/step - loss: 0.0575 - accuracy: 0.9779 - val_loss: 0.0780 - val_accuracy: 0.9719\n",
            "Epoch 35/50\n",
            "374/374 [==============================] - 3s 8ms/step - loss: 0.0578 - accuracy: 0.9765 - val_loss: 0.0594 - val_accuracy: 0.9773\n",
            "Epoch 36/50\n",
            "374/374 [==============================] - 2s 5ms/step - loss: 0.0598 - accuracy: 0.9776 - val_loss: 0.0492 - val_accuracy: 0.9813\n",
            "Epoch 37/50\n",
            "374/374 [==============================] - 2s 5ms/step - loss: 0.0596 - accuracy: 0.9772 - val_loss: 0.0634 - val_accuracy: 0.9766\n",
            "Epoch 38/50\n",
            "374/374 [==============================] - 2s 5ms/step - loss: 0.0527 - accuracy: 0.9820 - val_loss: 0.0468 - val_accuracy: 0.9843\n",
            "Epoch 39/50\n",
            "374/374 [==============================] - 2s 5ms/step - loss: 0.0539 - accuracy: 0.9786 - val_loss: 0.0398 - val_accuracy: 0.9846\n",
            "Epoch 40/50\n",
            "374/374 [==============================] - 2s 6ms/step - loss: 0.0542 - accuracy: 0.9802 - val_loss: 0.0534 - val_accuracy: 0.9813\n",
            "Epoch 41/50\n",
            "374/374 [==============================] - 4s 10ms/step - loss: 0.0591 - accuracy: 0.9780 - val_loss: 0.0644 - val_accuracy: 0.9799\n",
            "Epoch 42/50\n",
            "374/374 [==============================] - 3s 8ms/step - loss: 0.0592 - accuracy: 0.9781 - val_loss: 0.0539 - val_accuracy: 0.9799\n",
            "Epoch 43/50\n",
            "374/374 [==============================] - 2s 5ms/step - loss: 0.0519 - accuracy: 0.9799 - val_loss: 0.0555 - val_accuracy: 0.9779\n",
            "Epoch 44/50\n",
            "374/374 [==============================] - 2s 5ms/step - loss: 0.0532 - accuracy: 0.9799 - val_loss: 0.0769 - val_accuracy: 0.9749\n",
            "Epoch 45/50\n",
            "374/374 [==============================] - 2s 5ms/step - loss: 0.0501 - accuracy: 0.9817 - val_loss: 0.0557 - val_accuracy: 0.9820\n",
            "Epoch 46/50\n",
            "374/374 [==============================] - 2s 5ms/step - loss: 0.0476 - accuracy: 0.9815 - val_loss: 0.0479 - val_accuracy: 0.9803\n",
            "Epoch 47/50\n",
            "374/374 [==============================] - 2s 7ms/step - loss: 0.0527 - accuracy: 0.9818 - val_loss: 0.0556 - val_accuracy: 0.9789\n",
            "Epoch 48/50\n",
            "374/374 [==============================] - 3s 7ms/step - loss: 0.0508 - accuracy: 0.9819 - val_loss: 0.0679 - val_accuracy: 0.9749\n",
            "Epoch 49/50\n",
            "374/374 [==============================] - 2s 5ms/step - loss: 0.0472 - accuracy: 0.9822 - val_loss: 0.0459 - val_accuracy: 0.9816\n",
            "Epoch 50/50\n",
            "374/374 [==============================] - 2s 5ms/step - loss: 0.0560 - accuracy: 0.9785 - val_loss: 0.0435 - val_accuracy: 0.9863\n",
            "117/117 [==============================] - 0s 3ms/step\n",
            "\n",
            "LSTM Performance Metrics:\n",
            "Accuracy: 0.9807, Precision: 0.9780, Recall: 0.9842, F1-Score: 0.9810, ROC-AUC: 0.9986\n"
          ]
        }
      ],
      "source": [
        "# Compile the LSTM model\n",
        "lstm_model.compile(optimizer=Adam(learning_rate=0.01), loss='binary_crossentropy', metrics=['accuracy'])\n",
        "\n",
        "# Train the LSTM model\n",
        "lstm_model.fit(X_train_lstm, y_train, epochs=50, batch_size=32, validation_split=0.2, verbose=1)\n",
        "\n",
        "# Predict on the test set\n",
        "y_pred_lstm_prob = lstm_model.predict(X_test_lstm)\n",
        "\n",
        "# Evaluate the LSTM model\n",
        "lstm_metrics = evaluate_model(y_test, y_pred_lstm_prob)\n",
        "\n",
        "# Print LSTM performance metrics\n",
        "print(\"\\nLSTM Performance Metrics:\")\n",
        "print(\"Accuracy: {:.4f}, Precision: {:.4f}, Recall: {:.4f}, F1-Score: {:.4f}, ROC-AUC: {:.4f}\".format(*lstm_metrics))"
      ]
    },
    {
      "cell_type": "code",
      "source": [
        "# Predict with LSTM\n",
        "y_pred_lstm_prob = lstm_model.predict(X_test_lstm)\n",
        "y_pred_lstm = (y_pred_lstm_prob > 0.5).astype(int).flatten()  # Convert probabilities to binary labels\n"
      ],
      "metadata": {
        "colab": {
          "base_uri": "https://localhost:8080/"
        },
        "id": "Z2PqxCj0sAWk",
        "outputId": "9986929d-cfcc-456e-9d20-4f184cdd9566"
      },
      "execution_count": null,
      "outputs": [
        {
          "output_type": "stream",
          "name": "stdout",
          "text": [
            "117/117 [==============================] - 1s 9ms/step\n"
          ]
        }
      ]
    },
    {
      "cell_type": "code",
      "source": [
        "# Print and plot confusion matrix for LSTM\n",
        "plot_and_print_confusion_matrix(y_test, y_pred_lstm, \"LSTM Confusion Matrix\")"
      ],
      "metadata": {
        "colab": {
          "base_uri": "https://localhost:8080/",
          "height": 542
        },
        "id": "F-AOy_FqsKGm",
        "outputId": "76c6c5b9-a7a7-47ed-d65e-9b46647fd044"
      },
      "execution_count": null,
      "outputs": [
        {
          "output_type": "stream",
          "name": "stdout",
          "text": [
            "Confusion Matrix:\n",
            "[[1805   42]\n",
            " [  30 1863]]\n"
          ]
        },
        {
          "output_type": "display_data",
          "data": {
            "text/plain": [
              "<Figure size 600x500 with 2 Axes>"
            ],
            "image/png": "[encoded data removed]"
          },
          "metadata": {}
        }
      ]
    }
  ],
  "metadata": {
    "colab": {
      "provenance": [],
      "authorship_tag": "ABX9TyM2qP4XkXXpZPM3nH2Kyj3V",
      "include_colab_link": true
    },
    "kernelspec": {
      "display_name": "Python 3",
      "name": "python3"
    },
    "language_info": {
      "name": "python"
    }
  },
  "nbformat": 4,
  "nbformat_minor": 0
}